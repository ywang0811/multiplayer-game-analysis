{
 "cells": [
  {
   "cell_type": "code",
   "execution_count": 1,
   "metadata": {
    "collapsed": true
   },
   "outputs": [],
   "source": [
    "from pymongo import MongoClient\n",
    "import pandas as pd\n",
    "from matplotlib import pyplot as plt\n",
    "import numpy as np\n",
    "\n",
    "plt.rcParams['figure.figsize'] = (5,4)\n",
    "\n",
    "\n",
    "client = MongoClient()\n",
    "\n",
    "db = client.league_of_legends"
   ]
  },
  {
   "cell_type": "code",
   "execution_count": 2,
   "metadata": {
    "collapsed": true
   },
   "outputs": [],
   "source": [
    "actionTypes = db.playtraces_season11_72hrs.distinct('playtrace.type')"
   ]
  },
  {
   "cell_type": "code",
   "execution_count": 3,
   "metadata": {
    "collapsed": true
   },
   "outputs": [],
   "source": [
    "actionTypes = db.playtraces_season11_72hrs.distinct('playtrace.type')\n", ##find the distinct values for a specified field
    "\n",
    "def get_period_range_list(end,n):\n",
    "    period_range_list = []\n",
    "    start = 0\n",
    "    period_len = end/n\n",
    "    for i in range(n):\n",
    "        period_range_list.append((int(start), int(start+period_len)))\n",
    "        start += period_len\n",
    "    return period_range_list\n",
    "\n",
    "# create a df with action counts for n periods\n",
    "def divide(df,n):\n",
    "    action_count_dict = {k:0 for k in [\"%s_count_%s\" % (a,p) for p in range(n) for a in actionTypes]}\n",
    "    action_count_dict['id'] = ''\n",
    "    new_df = pd.DataFrame(columns=action_count_dict.keys())\n",
    "    for i in range(len(df)):\n",
    "        row = df.iloc[i,:].copy()\n",
    "        row_action_count_dict = action_count_dict.copy()\n",
    "        if row['playtrace'] != []:\n",
    "            last_action_time=row['playtrace'][-1]['timestamp']\n",
    "            period_range_list = get_period_range_list(last_action_time,n)\n",
    "            for action in row['playtrace']:\n",
    "                for p in period_range_list:\n",
    "                    if action['timestamp'] in range(p[0],p[1]):\n",
    "                        t = period_range_list.index(p)\n",
    "                k = \"%s_count_%s\" % (action['type'], t)\n",
    "                row_action_count_dict[k] += 1\n",
    "        row_action_count_dict['id']=row['id']\n",
    "        new_df=new_df.append(row_action_count_dict, ignore_index=True)\n",
    "    return new_df"
   ]
  },
  {
   "cell_type": "code",
   "execution_count": 103,
   "metadata": {
    "collapsed": true
   },
   "outputs": [],
   "source": [
    "def get_df(df,n):\n",
    "    action_count_dict = {k:0 for k in [\"%s_count_%s\" % (a,p) for p in range(n) for a in actionTypes]}\n",
    "    action_count_dict['id'] = ''\n",
    "    new_df = pd.DataFrame(columns=action_count_dict.keys())\n",
    "    for i in range(len(df)):\n",
    "        row = df.iloc[i,:].copy()\n",
    "        row_action_count_dict = action_count_dict.copy()\n",
    "        if row['playtrace'] != []:\n",
    "            last_action_time=row['playtrace'][-1]['timestamp']\n",
    "            period_range_list = get_period_range_list(last_action_time,n)\n",
    "            for action in row['playtrace']:\n",
    "                for p in period_range_list:\n",
    "                    if action['timestamp'] in range(p[0],p[1]):\n",
    "                        t = period_range_list.index(p)\n",
    "                k = \"%s_count_%s\" % (action['type'], t)\n",
    "                row_action_count_dict[k] += 1\n",
    "        participant_id = db.matches_season11_72hrs.find_one({'gameId': int(df.iloc[i,:]['gameId']), 'participantIdentities': {'$elemMatch': {'player.summonerId': int(df.iloc[i,:]['summonerId'])}}}, {'participantIdentities.$': 1})['participantIdentities'][0]['participantId']\n",
    "        player = db.matches_season11_72hrs.find_one({'gameId': int(df.iloc[i,:]['gameId']), 'participants.participantId': participant_id}, {'participants.$': 1})['participants'][0]\n",
    "        cols = ['kills', 'deaths', 'assists', 'largestKillingSpree', 'largestMultiKill', 'killingSprees', 'longestTimeSpentLiving', 'doubleKills', 'tripleKills', 'quadraKills', 'pentaKills', 'unrealKills', 'totalDamageDealt', 'magicDamageDealt', 'physicalDamageDealt', 'trueDamageDealt', 'largestCriticalStrike', 'totalDamageDealtToChampions', 'magicDamageDealtToChampions', 'physicalDamageDealtToChampions', 'trueDamageDealtToChampions', 'totalHeal', 'totalUnitsHealed', 'damageSelfMitigated', 'damageDealtToObjectives', 'damageDealtToTurrets', 'visionScore', 'timeCCingOthers', 'totalDamageTaken', 'magicalDamageTaken', 'physicalDamageTaken', 'trueDamageTaken', 'goldEarned', 'goldSpent', 'turretKills', 'inhibitorKills', 'totalMinionsKilled', 'neutralMinionsKilled', 'totalTimeCrowdControlDealt', 'champLevel', 'visionWardsBoughtInGame', 'sightWardsBoughtInGame', 'combatPlayerScore', 'objectivePlayerScore', 'totalPlayerScore', 'totalScoreRank', 'playerScore0', 'playerScore1', 'playerScore2', 'playerScore3', 'playerScore4', 'playerScore5', 'playerScore6', 'playerScore7', 'playerScore8', 'playerScore9']\n",
    "        for c in cols:\n",
    "            row_action_count_dict[c] = player['stats'][c]\n",
    "        row_action_count_dict['highestAchievedSeasonTier'] = player['highestAchievedSeasonTier']\n",
    "        new_df=new_df.append(row_action_count_dict, ignore_index=True)\n",
    "    return new_df"
   ]
  },
  {
   "cell_type": "code",
   "execution_count": 58,
   "metadata": {
    "collapsed": true
   },
   "outputs": [],
   "source": [
    "df = pd.DataFrame(list(db.playtraces_season11_72hrs.find({'gameMode':'CLASSIC', 'championId': 18, 'highestAchievedSeasonTier': {'$in': ['BRONZE', 'PLATINUM']}})))"
   ]
  },
  {
   "cell_type": "code",
   "execution_count": 80,
   "metadata": {
    "collapsed": true
   },
   "outputs": [],
   "source": [
    "new_df = get_df(df,1)"
   ]
  },
  {
   "cell_type": "code",
   "execution_count": 62,
   "metadata": {
    "collapsed": true
   },
   "outputs": [],
   "source": [
    "champions = pd.DataFrame(list(db.playtraces_season11_72hrs.find({'gameMode':'CLASSIC','gameVersion': '8.3.217.1022', 'queueId': 420}))).championId.unique()"
   ]
  },
  {
   "cell_type": "code",
   "execution_count": 90,
   "metadata": {},
   "outputs": [
    {
     "data": {
      "text/plain": [
       "array([7, 11, 6, 14, 19, 15, 2, 12, 4, 0, 3, 1, 1, '', 6.0, 15.0, 0.0,\n",
       "       15706.0, 6530.0, 14751.0, 7.0, 3.0, 15176.0, 14780.0, 1.0, 4.0,\n",
       "       11.0, 1019.0, 3.0, 3.0, 546.0, 66536.0, 6937.0, 7374.0, 16.0, 0.0,\n",
       "       0.0, 113403.0, 23705.0, 8952.0, 0.0, 0.0, 0.0, 0.0, 0.0, 0.0, 0.0,\n",
       "       0.0, 0.0, 0.0, 0.0, 0.0, 8.0, 181170.0, 31265.0, 17868.0, 3601.0,\n",
       "       197.0, 0.0, 0.0, 133.0, 3.0, 1.0, 1231.0, 623.0, 1541.0, 3.0, 0.0,\n",
       "       20.0, 0.0], dtype=object)"
      ]
     },
     "execution_count": 90,
     "metadata": {},
     "output_type": "execute_result"
    }
   ],
   "source": [
    "new_df.iloc[0,new_df.columns != 'highestAchievedSeasonTier'].values"
   ]
  },
  {
   "cell_type": "code",
   "execution_count": 92,
   "metadata": {},
   "outputs": [
    {
     "data": {
      "text/plain": [
       "'id'"
      ]
     },
     "execution_count": 92,
     "metadata": {},
     "output_type": "execute_result"
    }
   ],
   "source": [
    "new_df.columns[13]"
   ]
  },
  {
   "cell_type": "code",
   "execution_count": 88,
   "metadata": {},
   "outputs": [
    {
     "name": "stdout",
     "output_type": "stream",
     "text": [
      "7\n",
      "11\n",
      "6\n",
      "14\n",
      "19\n",
      "15\n",
      "12\n",
      "4\n",
      "0\n",
      "3\n",
      "1\n",
      "1\n",
      "\n",
      "6.0\n",
      "15.0\n"
     ]
    }
   ],
   "source": [
    "for i in new_df.iloc[0,df.columns != 'highestAchievedSeasonTier'].values: print (i)"
   ]
  },
  {
   "cell_type": "code",
   "execution_count": 105,
   "metadata": {
    "collapsed": true
   },
   "outputs": [],
   "source": [
    "from sklearn.preprocessing import MinMaxScaler\n",
    "s = MinMaxScaler()\n",
    "# PCA\n",
    "from sklearn.decomposition import PCA\n",
    "from sklearn import svm\n",
    "from scipy.stats import ttest_ind\n",
    "from sklearn.model_selection import train_test_split\n",
    "from sklearn.metrics import precision_recall_fscore_support\n",
    "\n",
    "def get_acc_and_rand(df):\n",
    "    X = df.iloc[:,df.columns != 'highestAchievedSeasonTier'].values\n",
    "    X = s.fit_transform(X)\n",
    "    try:\n",
    "        y = df.highestAchievedSeasonTier.values\n",
    "    except:\n",
    "        print('highestAchievedSeasonTier' in df.columns)\n",
    "    X_train, X_test, y_train, y_test = train_test_split(X, y, test_size=0.3)\n",
    "    classifier = svm.SVC(C=50)\n",
    "    classifier.fit(X_train, y_train)\n",
    "    pred = classifier.predict(X_test)\n",
    "    most_popular_training = max(set(y_train), key=list(y_train).count)\n",
    "    random_guess = list(y_test).count(most_popular_training)/len(y_test)\n",
    "    accuracy = classifier.score(X_test, y_test)\n",
    "    return accuracy, random_guess"
   ]
  },
  {
   "cell_type": "code",
   "execution_count": 106,
   "metadata": {
    "collapsed": true
   },
   "outputs": [],
   "source": [
    "from scipy.stats import ttest_ind\n",
    "\n",
    "def classify(championId):\n",
    "    df = pd.DataFrame(list(db.playtraces_season11_72hrs.find({'gameMode':'CLASSIC', 'championId': championId, 'highestAchievedSeasonTier': {'$in': ['BRONZE', 'PLATINUM']}})))\n",
    "    df_1 = get_df(df,1).drop('id', axis=1)\n",
    "    accuracies = []\n",
    "    random_guesses = []\n",
    "    for i in range(50):\n",
    "        acc, rand_guess = get_acc_and_rand(df_1)\n",
    "        accuracies.append(acc)\n",
    "        random_guesses.append(rand_guess)\n",
    "    p_val = ttest_ind(accuracies, random_guesses).pvalue\n",
    "    return(p_val, np.mean(accuracies), np.mean(random_guesses), np.std(accuracies), np.std(random_guesses))"
   ]
  },
  {
   "cell_type": "code",
   "execution_count": 108,
   "metadata": {},
   "outputs": [
    {
     "name": "stderr",
     "output_type": "stream",
     "text": [
      "/Users/yuliabarannikova/anaconda/lib/python3.6/site-packages/sklearn/utils/validation.py:475: DataConversionWarning: Data with input dtype object was converted to float64 by MinMaxScaler.\n",
      "  warnings.warn(msg, DataConversionWarning)\n"
     ]
    },
    {
     "name": "stdout",
     "output_type": "stream",
     "text": [
      "Champion:  37  p_val 0.0226909870184\n",
      "Champion:  267  p_val 5.06248406443e-43\n",
      "Champion:  25  p_val 0.00486051808303\n",
      "Champion:  81  p_val 8.31735823501e-32\n",
      "Champion:  236  p_val 5.67585160402e-07\n",
      "Champion:  91  p_val 0.0721935572256\n",
      "Champion:  41  p_val 1.33465286412e-05\n",
      "Champion:  77  p_val 2.4484419795e-07\n",
      "Champion:  12  p_val 3.31199516045e-24\n",
      "Champion:  21  p_val 0.0374409550817\n",
      "Champion:  245  p_val 2.84914102835e-15\n",
      "Champion:  24  p_val 1.61630265755e-20\n",
      "Champion:  39  p_val 0.00342013446844\n",
      "Champion:  110  p_val 4.90662785934e-27\n",
      "Champion:  86  p_val 0.947436749905\n",
      "Champion:  18  p_val 6.76761812341e-19\n",
      "Champion:  103  p_val 3.16987477514e-29\n",
      "Champion:  11  p_val 0.104703136344\n",
      "Champion:  101  p_val 2.11110713815e-07\n",
      "Champion:  61  p_val 6.09234346927e-16\n",
      "Champion:  67  p_val 5.48178929691e-32\n",
      "Champion:  164  p_val 0.0132645223233\n",
      "Champion:  32  p_val 0.0921200532403\n",
      "Champion:  134  p_val 0.787498535024\n",
      "Champion:  19  p_val 2.68143545865e-05\n",
      "Champion:  143  p_val 1.42468291642e-19\n",
      "Champion:  131  p_val 0.505903120658\n",
      "Champion:  43  p_val 5.78386083765e-22\n",
      "Champion:  141  p_val 4.30240772798e-13\n",
      "Champion:  122  p_val 0.107005110049\n",
      "Champion:  29  p_val 0.017354362301\n",
      "Champion:  9  p_val 4.90183506554e-15\n",
      "Champion:  31  p_val 0.0599638562622\n",
      "Champion:  22  p_val 0.567380320485\n",
      "Champion:  44  p_val 4.74590324037e-12\n",
      "Champion:  45  p_val 0.182116825259\n",
      "Champion:  5  p_val 0.351396155132\n",
      "Champion:  8  p_val 6.78256895682e-22\n",
      "Champion:  120  p_val 0.6136707511\n",
      "Champion:  238  p_val 0.0537241141802\n",
      "Champion:  89  p_val 0.000915436374875\n",
      "Champion:  99  p_val 3.22030110408e-26\n",
      "Champion:  127  p_val 0.0168410363438\n",
      "Champion:  111  p_val 0.00674398817484\n",
      "Champion:  50  p_val 3.42478289837e-24\n",
      "Champion:  72  p_val 6.0209036943e-11\n",
      "Champion:  222  p_val 3.49089447126e-14\n",
      "Champion:  498  p_val 1.62059382488e-20\n",
      "Champion:  150  p_val 0.0231153569302\n",
      "Champion:  90  p_val 4.60070417116e-14\n",
      "Champion:  40  p_val 7.38223238008e-27\n",
      "Champion:  112  p_val 2.5115838963e-13\n",
      "Champion:  102  p_val 0.120685972805\n",
      "Champion:  63  p_val 1.54537880636e-22\n",
      "Champion:  20  p_val 0.466969937546\n",
      "Champion:  53  p_val 4.5923304707e-17\n",
      "Champion:  58  p_val 0.00134106372136\n",
      "Champion:  412  p_val 4.72491127685e-40\n",
      "Champion:  119  p_val 6.91103944808e-22\n",
      "Champion:  55  p_val 0.415255763505\n",
      "Champion:  114  p_val 5.23490425112e-18\n",
      "Champion:  64  p_val 5.77486327403e-18\n",
      "Champion:  17  p_val 0.689359047415\n",
      "Champion:  57  p_val 2.04582151489e-06\n",
      "Champion:  157  p_val 0.0458642931205\n",
      "Champion:  142  p_val 3.95287916621e-12\n",
      "Champion:  59  p_val 9.57333408543e-05\n",
      "Champion:  163  p_val 8.42860666492e-16\n",
      "Champion:  78  p_val 0.486328829125\n",
      "Champion:  15  p_val 0.00357452708818\n",
      "Champion:  96  p_val 6.30933323104e-21\n",
      "Champion:  26  p_val 5.3301150819e-35\n",
      "Champion:  6  p_val 0.00287638517429\n",
      "Champion:  92  p_val 7.83334601801e-15\n",
      "Champion:  113  p_val 7.30137839135e-20\n",
      "Champion:  432  p_val 1.51253477303e-10\n",
      "Champion:  202  p_val 1.40491864426e-17\n",
      "Champion:  33  p_val 0.276946865028\n",
      "Champion:  429  p_val 1.53237540373e-08\n",
      "Champion:  84  p_val 0.000392417141716\n",
      "Champion:  16  p_val 2.69623979167e-10\n",
      "Champion:  35  p_val 8.37551185411e-17\n",
      "Champion:  121  p_val 1.1859084551e-27\n",
      "Champion:  254  p_val 0.969050926509\n",
      "Champion:  75  p_val 0.974341662093\n",
      "Champion:  51  p_val 2.4721166387e-40\n",
      "Champion:  154  p_val 1.73335629957e-13\n",
      "Champion:  38  p_val 0.00935143888545\n",
      "Champion:  107  p_val 2.46074775895e-19\n",
      "Champion:  28  p_val 0.000352805965058\n",
      "Champion:  3  p_val 0.00373353349705\n",
      "Champion:  7  p_val 2.06513500168e-13\n",
      "Champion:  201  p_val 1.84925792505e-12\n",
      "Champion:  82  p_val 0.427294957156\n",
      "Champion:  427  p_val 0.357456283123\n",
      "Champion:  420  p_val 0.00771568704788\n",
      "Champion:  69  p_val 8.69293781926e-14\n",
      "Champion:  117  p_val 4.58867516207e-31\n",
      "Champion:  136  p_val 3.22970138732e-17\n",
      "Champion:  62  p_val 0.0465404187033\n",
      "Champion:  421  p_val 6.99865311931e-20\n",
      "Champion:  240  p_val 2.97557852599e-27\n",
      "Champion:  80  p_val 0.208390420895\n",
      "Champion:  268  p_val 6.57355795767e-09\n",
      "Champion:  14  p_val 1.0105644459e-42\n",
      "Champion:  2  p_val 0.00121768123891\n",
      "Champion:  13  p_val 1.23637640048e-19\n",
      "Champion:  30  p_val 0.0666725329595\n",
      "Champion:  497  p_val 6.73768561272e-12\n",
      "Champion:  74  p_val 0.681443626931\n",
      "Champion:  68  p_val 0.00431127067283\n",
      "Champion:  126  p_val 5.49248960332e-09\n",
      "Champion:  98  p_val 4.48760296572e-13\n",
      "Champion:  83  p_val 0.027163261899\n",
      "Champion:  1  p_val 0.208591847187\n",
      "Champion:  104  p_val 2.63396918791e-16\n",
      "Champion:  516  p_val 0.812661226472\n",
      "Champion:  115  p_val 0.00403604563216\n",
      "Champion:  223  p_val 0.0753544285786\n",
      "Champion:  105  p_val 3.99511697273e-11\n",
      "Champion:  42  p_val 2.37569625229e-05\n",
      "Champion:  161  p_val 0.00182260372394\n",
      "Champion:  266  p_val 0.185642923935\n",
      "Champion:  54  p_val 0.26615582689\n",
      "Champion:  56  p_val 2.44639741565e-18\n",
      "Champion:  4  p_val 5.83604343902e-15\n",
      "Champion:  60  p_val 2.38433022326e-11\n",
      "Champion:  48  p_val 0.0135359494491\n",
      "Champion:  76  p_val 7.6192959394e-38\n",
      "Champion:  34  p_val 6.77320743065e-30\n",
      "Champion:  23  p_val 0.0191757920757\n",
      "Champion:  203  p_val 9.57333296158e-10\n",
      "Champion:  36  p_val 0.754163932318\n",
      "Champion:  106  p_val 6.6346526698e-05\n",
      "Champion:  79  p_val 9.58797736973e-12\n",
      "Champion:  85  p_val 1.32788989334e-08\n",
      "Champion:  133  p_val 1.55085769372e-07\n",
      "Champion:  27  p_val 0.574936226839\n",
      "Champion:  10  p_val 0.291563778713\n"
     ]
    }
   ],
   "source": [
    "classifier_results = []\n",
    "for c in champions:\n",
    "    c = int(c)\n",
    "    result_obj = {\n",
    "        'championId': c\n",
    "    }\n",
    "    p_val, mean_svm, mean_rand, std_svm, std_rand = classify(c)\n",
    "    print (\"Champion: \", c, \" p_val\", p_val)\n",
    "    result_obj = {\n",
    "        'championId': c,\n",
    "        'p_val': p_val,\n",
    "        'mean_svm': mean_svm,\n",
    "        'mean_rand': mean_rand,\n",
    "        'std_svm': std_svm,\n",
    "        'std_rand': std_rand\n",
    "    }\n",
    "    classifier_results.append(result_obj)"
   ]
  },
  {
   "cell_type": "code",
   "execution_count": 109,
   "metadata": {
    "collapsed": true
   },
   "outputs": [],
   "source": [
    "results_df = pd.DataFrame(classifier_results)\n",
    "for col in results_df.columns[1:]:\n",
    "    results_df[col] = results_df[col].round(decimals=5)  \n",
    "results_df['mean_diff'] = results_df['mean_svm'] - results_df['mean_rand']\n",
    "results_df = results_df[['championId', 'p_val','mean_diff', 'mean_svm','mean_rand','std_svm', 'std_rand']]\n",
    "results_df.sort_values(by=['p_val']).to_csv('results_combined.csv', index=False)"
   ]
  },
  {
   "cell_type": "code",
   "execution_count": null,
   "metadata": {
    "collapsed": true
   },
   "outputs": [],
   "source": []
  }
 ],
 "metadata": {
  "kernelspec": {
   "display_name": "Python 3",
   "language": "python",
   "name": "python3"
  },
  "language_info": {
   "codemirror_mode": {
    "name": "ipython",
    "version": 3
   },
   "file_extension": ".py",
   "mimetype": "text/x-python",
   "name": "python",
   "nbconvert_exporter": "python",
   "pygments_lexer": "ipython3",
   "version": "3.6.3"
  }
 },
 "nbformat": 4,
 "nbformat_minor": 2
}
